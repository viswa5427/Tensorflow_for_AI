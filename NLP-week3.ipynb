{
  "nbformat": 4,
  "nbformat_minor": 0,
  "metadata": {
    "accelerator": "GPU",
    "colab": {
      "name": "NLP Course - Week 3 Exercise Answer.ipynb",
      "provenance": []
    },
    "kernelspec": {
      "display_name": "Python 3",
      "language": "python",
      "name": "python3"
    },
    "language_info": {
      "codemirror_mode": {
        "name": "ipython",
        "version": 3
      },
      "file_extension": ".py",
      "mimetype": "text/x-python",
      "name": "python",
      "nbconvert_exporter": "python",
      "pygments_lexer": "ipython3",
      "version": "3.7.6"
    }
  },
  "cells": [
    {
      "cell_type": "code",
      "metadata": {
        "colab_type": "code",
        "id": "hmA6EzkQJ5jt",
        "colab": {}
      },
      "source": [
        "import json\n",
        "import tensorflow as tf\n",
        "import csv\n",
        "import random\n",
        "import numpy as np\n",
        "\n",
        "from tensorflow.keras.preprocessing.text import Tokenizer\n",
        "from tensorflow.keras.preprocessing.sequence import pad_sequences\n",
        "from tensorflow.keras.utils import to_categorical\n",
        "from tensorflow.keras import regularizers\n",
        "\n",
        "\n",
        "embedding_dim = 100\n",
        "max_length = 16\n",
        "trunc_type='post'\n",
        "padding_type='post'\n",
        "oov_tok = \"<OOV>\"\n",
        "training_size=160000\n",
        "test_portion=.1\n",
        "\n",
        "corpus = []\n"
      ],
      "execution_count": 1,
      "outputs": []
    },
    {
      "cell_type": "code",
      "metadata": {
        "colab_type": "code",
        "id": "bM0l_dORKqE0",
        "colab": {
          "base_uri": "https://localhost:8080/",
          "height": 221
        },
        "outputId": "de00a6dd-505d-4ba7-bc10-51ee04f9a774"
      },
      "source": [
        "!wget --no-check-certificate \\\n",
        "    https://storage.googleapis.com/laurencemoroney-blog.appspot.com/training_cleaned.csv \\\n",
        "    -O /tmp/training_cleaned.csv\n",
        "\n",
        "num_sentences = 0\n",
        "\n",
        "with open(\"/tmp/training_cleaned.csv\") as csvfile:\n",
        "    reader = csv.reader(csvfile, delimiter=',')\n",
        "    for row in reader:\n",
        "        list_item=[]\n",
        "        list_item.append(row[5])\n",
        "        this_label=row[0]\n",
        "        if this_label=='0':\n",
        "            list_item.append(0)\n",
        "        else:\n",
        "            list_item.append(1)\n",
        "        num_sentences = num_sentences + 1\n",
        "        corpus.append(list_item)\n"
      ],
      "execution_count": 2,
      "outputs": [
        {
          "output_type": "stream",
          "text": [
            "--2020-07-04 13:39:01--  https://storage.googleapis.com/laurencemoroney-blog.appspot.com/training_cleaned.csv\n",
            "Resolving storage.googleapis.com (storage.googleapis.com)... 64.233.189.128, 108.177.125.128, 74.125.203.128, ...\n",
            "Connecting to storage.googleapis.com (storage.googleapis.com)|64.233.189.128|:443... connected.\n",
            "HTTP request sent, awaiting response... 200 OK\n",
            "Length: 238942690 (228M) [application/octet-stream]\n",
            "Saving to: ‘/tmp/training_cleaned.csv’\n",
            "\n",
            "/tmp/training_clean 100%[===================>] 227.87M   172MB/s    in 1.3s    \n",
            "\n",
            "2020-07-04 13:39:02 (172 MB/s) - ‘/tmp/training_cleaned.csv’ saved [238942690/238942690]\n",
            "\n"
          ],
          "name": "stdout"
        }
      ]
    },
    {
      "cell_type": "code",
      "metadata": {
        "colab_type": "code",
        "id": "3kxblBUjEUX-",
        "colab": {
          "base_uri": "https://localhost:8080/",
          "height": 73
        },
        "outputId": "2048883c-4754-41c7-d306-8e9f27b357e2"
      },
      "source": [
        "print(num_sentences)\n",
        "print(len(corpus))\n",
        "print(corpus[1])"
      ],
      "execution_count": 3,
      "outputs": [
        {
          "output_type": "stream",
          "text": [
            "1600000\n",
            "1600000\n",
            "[\"is upset that he can't update his Facebook by texting it... and might cry as a result  School today also. Blah!\", 0]\n"
          ],
          "name": "stdout"
        }
      ]
    },
    {
      "cell_type": "code",
      "metadata": {
        "colab_type": "code",
        "id": "ohOGz24lsNAD",
        "colab": {}
      },
      "source": [
        "sentences=[]\n",
        "labels=[]\n",
        "random.shuffle(corpus)\n",
        "for x in range(training_size):\n",
        "    sentences.append(corpus[x][0])\n",
        "    labels.append(corpus[x][1])\n",
        "\n",
        "\n",
        "tokenizer = Tokenizer()\n",
        "tokenizer.fit_on_texts(sentences)\n",
        "\n",
        "word_index = tokenizer.word_index\n",
        "vocab_size=len(word_index)\n",
        "\n",
        "sequences = tokenizer.texts_to_sequences(sentences)\n",
        "padded = pad_sequences(sequences, maxlen=max_length, padding=padding_type, truncating=trunc_type)\n",
        "\n",
        "split = int(test_portion * training_size)\n",
        "\n",
        "test_sequences = padded[0:split]\n",
        "training_sequences = padded[split:training_size]\n",
        "test_labels = labels[0:split]\n",
        "training_labels = labels[split:training_size]"
      ],
      "execution_count": 4,
      "outputs": []
    },
    {
      "cell_type": "code",
      "metadata": {
        "colab_type": "code",
        "id": "gIrtRem1En3N",
        "colab": {
          "base_uri": "https://localhost:8080/",
          "height": 54
        },
        "outputId": "d8e5c000-d6ee-43c2-a854-9ce1e0347271"
      },
      "source": [
        "print(vocab_size)\n",
        "print(word_index['i'])"
      ],
      "execution_count": 5,
      "outputs": [
        {
          "output_type": "stream",
          "text": [
            "138767\n",
            "1\n"
          ],
          "name": "stdout"
        }
      ]
    },
    {
      "cell_type": "code",
      "metadata": {
        "colab_type": "code",
        "id": "C1zdgJkusRh0",
        "colab": {
          "base_uri": "https://localhost:8080/",
          "height": 221
        },
        "outputId": "e76e2032-4251-47e5-be3d-a47e3e679442"
      },
      "source": [
        "!wget --no-check-certificate \\\n",
        "    https://storage.googleapis.com/laurencemoroney-blog.appspot.com/glove.6B.100d.txt \\\n",
        "    -O /tmp/glove.6B.100d.txt\n",
        "embeddings_index = {};\n",
        "with open('/tmp/glove.6B.100d.txt') as f:\n",
        "    for line in f:\n",
        "        values = line.split();\n",
        "        word = values[0];\n",
        "        coefs = np.asarray(values[1:], dtype='float32');\n",
        "        embeddings_index[word] = coefs;\n",
        "\n",
        "embeddings_matrix = np.zeros((vocab_size+1, embedding_dim));\n",
        "for word, i in word_index.items():\n",
        "    embedding_vector = embeddings_index.get(word);\n",
        "    if embedding_vector is not None:\n",
        "        embeddings_matrix[i] = embedding_vector;"
      ],
      "execution_count": 6,
      "outputs": [
        {
          "output_type": "stream",
          "text": [
            "--2020-07-04 13:39:19--  https://storage.googleapis.com/laurencemoroney-blog.appspot.com/glove.6B.100d.txt\n",
            "Resolving storage.googleapis.com (storage.googleapis.com)... 64.233.189.128, 108.177.125.128, 74.125.23.128, ...\n",
            "Connecting to storage.googleapis.com (storage.googleapis.com)|64.233.189.128|:443... connected.\n",
            "HTTP request sent, awaiting response... 200 OK\n",
            "Length: 347116733 (331M) [text/plain]\n",
            "Saving to: ‘/tmp/glove.6B.100d.txt’\n",
            "\n",
            "/tmp/glove.6B.100d. 100%[===================>] 331.04M  69.2MB/s    in 4.8s    \n",
            "\n",
            "2020-07-04 13:39:24 (69.2 MB/s) - ‘/tmp/glove.6B.100d.txt’ saved [347116733/347116733]\n",
            "\n"
          ],
          "name": "stdout"
        }
      ]
    },
    {
      "cell_type": "code",
      "metadata": {
        "colab_type": "code",
        "id": "71NLk_lpFLNt",
        "colab": {
          "base_uri": "https://localhost:8080/",
          "height": 36
        },
        "outputId": "4d467114-4562-4521-964a-d68560a7309a"
      },
      "source": [
        "print(len(embeddings_matrix))"
      ],
      "execution_count": 7,
      "outputs": [
        {
          "output_type": "stream",
          "text": [
            "138768\n"
          ],
          "name": "stdout"
        }
      ]
    },
    {
      "cell_type": "code",
      "metadata": {
        "colab_type": "code",
        "id": "iKKvbuEBOGFz",
        "colab": {
          "base_uri": "https://localhost:8080/",
          "height": 1000
        },
        "outputId": "ac14ef93-db46-4080-efff-2e9d70703cdf"
      },
      "source": [
        "model = tf.keras.Sequential([\n",
        "    tf.keras.layers.Embedding(vocab_size+1, embedding_dim, input_length=max_length, weights=[embeddings_matrix], trainable=False),\n",
        "    tf.keras.layers.Dropout(0.2),\n",
        "    tf.keras.layers.Conv1D(64, 5, activation='relu'),\n",
        "    tf.keras.layers.MaxPooling1D(pool_size=4),\n",
        "    tf.keras.layers.LSTM(64),\n",
        "    tf.keras.layers.Dense(1, activation='sigmoid')\n",
        "])\n",
        "model.compile(loss='binary_crossentropy',optimizer='adam',metrics=['accuracy'])\n",
        "model.summary()\n",
        "\n",
        "num_epochs = 50\n",
        "\n",
        "training_padded = np.array(training_sequences)\n",
        "training_labels = np.array(training_labels)\n",
        "testing_padded = np.array(test_sequences)\n",
        "testing_labels = np.array(test_labels)\n",
        "\n",
        "history = model.fit(training_padded, training_labels, epochs=num_epochs, validation_data=(testing_padded, testing_labels), verbose=2)\n",
        "\n",
        "print(\"Training Complete\")"
      ],
      "execution_count": 8,
      "outputs": [
        {
          "output_type": "stream",
          "text": [
            "Model: \"sequential\"\n",
            "_________________________________________________________________\n",
            "Layer (type)                 Output Shape              Param #   \n",
            "=================================================================\n",
            "embedding (Embedding)        (None, 16, 100)           13876800  \n",
            "_________________________________________________________________\n",
            "dropout (Dropout)            (None, 16, 100)           0         \n",
            "_________________________________________________________________\n",
            "conv1d (Conv1D)              (None, 12, 64)            32064     \n",
            "_________________________________________________________________\n",
            "max_pooling1d (MaxPooling1D) (None, 3, 64)             0         \n",
            "_________________________________________________________________\n",
            "lstm (LSTM)                  (None, 64)                33024     \n",
            "_________________________________________________________________\n",
            "dense (Dense)                (None, 1)                 65        \n",
            "=================================================================\n",
            "Total params: 13,941,953\n",
            "Trainable params: 65,153\n",
            "Non-trainable params: 13,876,800\n",
            "_________________________________________________________________\n",
            "Epoch 1/50\n",
            "4500/4500 - 20s - loss: 0.5682 - accuracy: 0.6989 - val_loss: 0.5209 - val_accuracy: 0.7379\n",
            "Epoch 2/50\n",
            "4500/4500 - 20s - loss: 0.5293 - accuracy: 0.7297 - val_loss: 0.5069 - val_accuracy: 0.7449\n",
            "Epoch 3/50\n",
            "4500/4500 - 20s - loss: 0.5127 - accuracy: 0.7419 - val_loss: 0.5017 - val_accuracy: 0.7524\n",
            "Epoch 4/50\n",
            "4500/4500 - 20s - loss: 0.5012 - accuracy: 0.7493 - val_loss: 0.4955 - val_accuracy: 0.7584\n",
            "Epoch 5/50\n",
            "4500/4500 - 20s - loss: 0.4934 - accuracy: 0.7551 - val_loss: 0.4996 - val_accuracy: 0.7492\n",
            "Epoch 6/50\n",
            "4500/4500 - 21s - loss: 0.4876 - accuracy: 0.7589 - val_loss: 0.4933 - val_accuracy: 0.7596\n",
            "Epoch 7/50\n",
            "4500/4500 - 19s - loss: 0.4817 - accuracy: 0.7624 - val_loss: 0.4951 - val_accuracy: 0.7586\n",
            "Epoch 8/50\n",
            "4500/4500 - 20s - loss: 0.4772 - accuracy: 0.7658 - val_loss: 0.4953 - val_accuracy: 0.7549\n",
            "Epoch 9/50\n",
            "4500/4500 - 20s - loss: 0.4721 - accuracy: 0.7691 - val_loss: 0.4965 - val_accuracy: 0.7584\n",
            "Epoch 10/50\n",
            "4500/4500 - 20s - loss: 0.4686 - accuracy: 0.7712 - val_loss: 0.5008 - val_accuracy: 0.7544\n",
            "Epoch 11/50\n",
            "4500/4500 - 20s - loss: 0.4653 - accuracy: 0.7738 - val_loss: 0.4993 - val_accuracy: 0.7534\n",
            "Epoch 12/50\n",
            "4500/4500 - 20s - loss: 0.4609 - accuracy: 0.7764 - val_loss: 0.5027 - val_accuracy: 0.7546\n",
            "Epoch 13/50\n",
            "4500/4500 - 19s - loss: 0.4587 - accuracy: 0.7778 - val_loss: 0.4975 - val_accuracy: 0.7589\n",
            "Epoch 14/50\n",
            "4500/4500 - 19s - loss: 0.4569 - accuracy: 0.7780 - val_loss: 0.4998 - val_accuracy: 0.7578\n",
            "Epoch 15/50\n",
            "4500/4500 - 19s - loss: 0.4548 - accuracy: 0.7803 - val_loss: 0.5041 - val_accuracy: 0.7566\n",
            "Epoch 16/50\n",
            "4500/4500 - 19s - loss: 0.4526 - accuracy: 0.7820 - val_loss: 0.5045 - val_accuracy: 0.7568\n",
            "Epoch 17/50\n",
            "4500/4500 - 19s - loss: 0.4508 - accuracy: 0.7824 - val_loss: 0.5031 - val_accuracy: 0.7536\n",
            "Epoch 18/50\n",
            "4500/4500 - 19s - loss: 0.4480 - accuracy: 0.7838 - val_loss: 0.5020 - val_accuracy: 0.7538\n",
            "Epoch 19/50\n",
            "4500/4500 - 19s - loss: 0.4487 - accuracy: 0.7839 - val_loss: 0.5085 - val_accuracy: 0.7545\n",
            "Epoch 20/50\n",
            "4500/4500 - 19s - loss: 0.4466 - accuracy: 0.7849 - val_loss: 0.5050 - val_accuracy: 0.7566\n",
            "Epoch 21/50\n",
            "4500/4500 - 20s - loss: 0.4450 - accuracy: 0.7860 - val_loss: 0.5083 - val_accuracy: 0.7539\n",
            "Epoch 22/50\n",
            "4500/4500 - 20s - loss: 0.4437 - accuracy: 0.7861 - val_loss: 0.5104 - val_accuracy: 0.7552\n",
            "Epoch 23/50\n",
            "4500/4500 - 19s - loss: 0.4430 - accuracy: 0.7875 - val_loss: 0.5134 - val_accuracy: 0.7515\n",
            "Epoch 24/50\n",
            "4500/4500 - 19s - loss: 0.4413 - accuracy: 0.7896 - val_loss: 0.5116 - val_accuracy: 0.7494\n",
            "Epoch 25/50\n",
            "4500/4500 - 19s - loss: 0.4394 - accuracy: 0.7890 - val_loss: 0.5126 - val_accuracy: 0.7519\n",
            "Epoch 26/50\n",
            "4500/4500 - 19s - loss: 0.4400 - accuracy: 0.7897 - val_loss: 0.5144 - val_accuracy: 0.7484\n",
            "Epoch 27/50\n",
            "4500/4500 - 19s - loss: 0.4386 - accuracy: 0.7895 - val_loss: 0.5168 - val_accuracy: 0.7542\n",
            "Epoch 28/50\n",
            "4500/4500 - 20s - loss: 0.4400 - accuracy: 0.7894 - val_loss: 0.5155 - val_accuracy: 0.7544\n",
            "Epoch 29/50\n",
            "4500/4500 - 19s - loss: 0.4386 - accuracy: 0.7905 - val_loss: 0.5105 - val_accuracy: 0.7506\n",
            "Epoch 30/50\n",
            "4500/4500 - 19s - loss: 0.4371 - accuracy: 0.7914 - val_loss: 0.5182 - val_accuracy: 0.7498\n",
            "Epoch 31/50\n",
            "4500/4500 - 19s - loss: 0.4372 - accuracy: 0.7908 - val_loss: 0.5096 - val_accuracy: 0.7542\n",
            "Epoch 32/50\n",
            "4500/4500 - 19s - loss: 0.4371 - accuracy: 0.7907 - val_loss: 0.5123 - val_accuracy: 0.7529\n",
            "Epoch 33/50\n",
            "4500/4500 - 19s - loss: 0.4362 - accuracy: 0.7911 - val_loss: 0.5097 - val_accuracy: 0.7529\n",
            "Epoch 34/50\n",
            "4500/4500 - 19s - loss: 0.4360 - accuracy: 0.7910 - val_loss: 0.5146 - val_accuracy: 0.7498\n",
            "Epoch 35/50\n",
            "4500/4500 - 19s - loss: 0.4360 - accuracy: 0.7902 - val_loss: 0.5152 - val_accuracy: 0.7534\n",
            "Epoch 36/50\n",
            "4500/4500 - 19s - loss: 0.4337 - accuracy: 0.7924 - val_loss: 0.5129 - val_accuracy: 0.7564\n",
            "Epoch 37/50\n",
            "4500/4500 - 19s - loss: 0.4345 - accuracy: 0.7930 - val_loss: 0.5140 - val_accuracy: 0.7531\n",
            "Epoch 38/50\n",
            "4500/4500 - 20s - loss: 0.4334 - accuracy: 0.7927 - val_loss: 0.5150 - val_accuracy: 0.7552\n",
            "Epoch 39/50\n",
            "4500/4500 - 19s - loss: 0.4316 - accuracy: 0.7946 - val_loss: 0.5186 - val_accuracy: 0.7518\n",
            "Epoch 40/50\n",
            "4500/4500 - 19s - loss: 0.4338 - accuracy: 0.7942 - val_loss: 0.5150 - val_accuracy: 0.7536\n",
            "Epoch 41/50\n",
            "4500/4500 - 19s - loss: 0.4333 - accuracy: 0.7937 - val_loss: 0.5159 - val_accuracy: 0.7513\n",
            "Epoch 42/50\n",
            "4500/4500 - 19s - loss: 0.4318 - accuracy: 0.7933 - val_loss: 0.5194 - val_accuracy: 0.7505\n",
            "Epoch 43/50\n",
            "4500/4500 - 19s - loss: 0.4313 - accuracy: 0.7944 - val_loss: 0.5167 - val_accuracy: 0.7512\n",
            "Epoch 44/50\n",
            "4500/4500 - 20s - loss: 0.4332 - accuracy: 0.7927 - val_loss: 0.5162 - val_accuracy: 0.7532\n",
            "Epoch 45/50\n",
            "4500/4500 - 19s - loss: 0.4305 - accuracy: 0.7941 - val_loss: 0.5248 - val_accuracy: 0.7519\n",
            "Epoch 46/50\n",
            "4500/4500 - 19s - loss: 0.4300 - accuracy: 0.7952 - val_loss: 0.5175 - val_accuracy: 0.7533\n",
            "Epoch 47/50\n",
            "4500/4500 - 19s - loss: 0.4295 - accuracy: 0.7954 - val_loss: 0.5195 - val_accuracy: 0.7501\n",
            "Epoch 48/50\n",
            "4500/4500 - 19s - loss: 0.4309 - accuracy: 0.7951 - val_loss: 0.5185 - val_accuracy: 0.7534\n",
            "Epoch 49/50\n",
            "4500/4500 - 19s - loss: 0.4308 - accuracy: 0.7940 - val_loss: 0.5193 - val_accuracy: 0.7515\n",
            "Epoch 50/50\n",
            "4500/4500 - 19s - loss: 0.4284 - accuracy: 0.7964 - val_loss: 0.5190 - val_accuracy: 0.7509\n",
            "Training Complete\n"
          ],
          "name": "stdout"
        }
      ]
    },
    {
      "cell_type": "code",
      "metadata": {
        "colab_type": "code",
        "id": "qxju4ItJKO8F",
        "colab": {
          "base_uri": "https://localhost:8080/",
          "height": 610
        },
        "outputId": "aa6226a3-2b98-4aea-f45d-e993ddd5f7e0"
      },
      "source": [
        "import matplotlib.image  as mpimg\n",
        "import matplotlib.pyplot as plt\n",
        "\n",
        "#-----------------------------------------------------------\n",
        "# Retrieve a list of list results on training and test data\n",
        "# sets for each training epoch\n",
        "#-----------------------------------------------------------\n",
        "acc=history.history['accuracy']\n",
        "val_acc=history.history['val_accuracy']\n",
        "loss=history.history['loss']\n",
        "val_loss=history.history['val_loss']\n",
        "\n",
        "epochs=range(len(acc)) # Get number of epochs\n",
        "\n",
        "#------------------------------------------------\n",
        "# Plot training and validation accuracy per epoch\n",
        "#------------------------------------------------\n",
        "plt.plot(epochs, acc, 'r')\n",
        "plt.plot(epochs, val_acc, 'b')\n",
        "plt.title('Training and validation accuracy')\n",
        "plt.xlabel(\"Epochs\")\n",
        "plt.ylabel(\"Accuracy\")\n",
        "plt.legend([\"Accuracy\", \"Validation Accuracy\"])\n",
        "\n",
        "plt.figure()\n",
        "\n",
        "#------------------------------------------------\n",
        "# Plot training and validation loss per epoch\n",
        "#------------------------------------------------\n",
        "plt.plot(epochs, loss, 'r')\n",
        "plt.plot(epochs, val_loss, 'b')\n",
        "plt.title('Training and validation loss')\n",
        "plt.xlabel(\"Epochs\")\n",
        "plt.ylabel(\"Loss\")\n",
        "plt.legend([\"Loss\", \"Validation Loss\"])\n",
        "\n",
        "plt.figure()\n",
        "\n",
        "\n",
        "# Expected Output\n",
        "# A chart where the validation loss does not increase sharply!"
      ],
      "execution_count": 10,
      "outputs": [
        {
          "output_type": "execute_result",
          "data": {
            "text/plain": [
              "<Figure size 432x288 with 0 Axes>"
            ]
          },
          "metadata": {
            "tags": []
          },
          "execution_count": 10
        },
        {
          "output_type": "display_data",
          "data": {
            "image/png": "[encoded data removed]",
            "text/plain": [
              "<Figure size 432x288 with 1 Axes>"
            ]
          },
          "metadata": {
            "tags": [],
            "needs_background": "light"
          }
        },
        {
          "output_type": "display_data",
          "data": {
            "image/png": "[encoded data removed]",
            "text/plain": [
              "<Figure size 432x288 with 1 Axes>"
            ]
          },
          "metadata": {
            "tags": [],
            "needs_background": "light"
          }
        },
        {
          "output_type": "display_data",
          "data": {
            "text/plain": [
              "<Figure size 432x288 with 0 Axes>"
            ]
          },
          "metadata": {
            "tags": []
          }
        }
      ]
    },
    {
      "cell_type": "code",
      "metadata": {
        "id": "jo3GNGrwHbxj",
        "colab_type": "code",
        "colab": {}
      },
      "source": [
        ""
      ],
      "execution_count": null,
      "outputs": []
    }
  ]
}